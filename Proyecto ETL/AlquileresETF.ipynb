{
 "cells": [
  {
   "cell_type": "code",
   "execution_count": 11,
   "metadata": {
    "id": "KebOy3W1aktu"
   },
   "outputs": [],
   "source": [
    "import numpy\n",
    "import pandas as pd\n",
    "from bs4 import BeautifulSoup\n",
    "import requests\n",
    "import re\n",
    "import time"
   ]
  },
  {
   "cell_type": "code",
   "execution_count": 2,
   "metadata": {
    "id": "U2T77oXCbQUa"
   },
   "outputs": [],
   "source": [
    "# Función para extraer datos de una página\n",
    "def scrape_pagina(url):\n",
    "    # Realizar la solicitud HTTP\n",
    "    headers = {'User-Agent': 'Mozilla/5.0 (Windows NT 10.0; Win64; x64) AppleWebKit/537.36 (KHTML, like Gecko) Chrome/91.0.4472.124 Safari/537.36'}\n",
    "    response = requests.get(url, headers=headers)\n",
    "    if response.ok:\n",
    "        print(\"La solicitud fue exitosa.\")\n",
    "    else:\n",
    "        print(f\"La solicitud falló con el código de estado {response.status_code}.\")\n",
    "    # Crear el objeto BeautifulSoup\n",
    "    soup = BeautifulSoup(response.text, 'html.parser')\n",
    "\n",
    "    # Encontrar todos los divs con la clase \"posting-container\"\n",
    "    posteos = soup.find_all('div', class_='CardContainer-sc-1tt2vbg-5 fvuHxG')\n",
    "    return posteos\n",
    "       "
   ]
  },
  {
   "cell_type": "code",
   "execution_count": 37,
   "metadata": {},
   "outputs": [
    {
     "name": "stdout",
     "output_type": "stream",
     "text": [
      "La solicitud fue exitosa.\n"
     ]
    }
   ],
   "source": [
    "posteos=scrape_pagina('link')"
   ]
  },
  {
   "cell_type": "code",
   "execution_count": 3,
   "metadata": {
    "id": "ivnmv0oJ5p2q"
   },
   "outputs": [],
   "source": [
    "def procesar_precio(precio_text):\n",
    "    # Eliminar espacios en blanco y convertir a minúsculas\n",
    "    precio_text = precio_text.strip().lower()\n",
    "\n",
    "    # Extraer el número del texto\n",
    "    numero = re.sub(r'[^\\d]', '', precio_text)\n",
    "\n",
    "    if not numero:\n",
    "        return None, None  # Si no se encuentra un número, retornar None\n",
    "\n",
    "    # Convertir a float\n",
    "    cantidad = float(numero)\n",
    "\n",
    "    # Determinar la moneda\n",
    "    if '$' in precio_text and 'usd' not in precio_text:\n",
    "        moneda = 'pesos'\n",
    "    elif 'usd' in precio_text:\n",
    "        moneda = 'dolares'\n",
    "    else:\n",
    "        moneda = 'desconocido'\n",
    "\n",
    "    return cantidad, moneda"
   ]
  },
  {
   "cell_type": "code",
   "execution_count": 4,
   "metadata": {
    "id": "vrM-BKlC6dei"
   },
   "outputs": [],
   "source": [
    "def extraer_caracteristicas(caracteristicas_crudas):\n",
    "    caracteristicas = {}\n",
    "    if caracteristicas_crudas:\n",
    "        spans = caracteristicas_crudas.find_all('span')\n",
    "        for span in spans:\n",
    "            text = span.text.strip().lower()\n",
    "            if 'm²' in text:\n",
    "                caracteristicas['area'] = int(text.split()[0])\n",
    "            elif 'amb.' in text:\n",
    "                caracteristicas['ambientes'] = int(text.split()[0])\n",
    "            elif 'dorm.' in text:\n",
    "                caracteristicas['dormitorios'] = int(text.split()[0])\n",
    "            elif 'baño' in text:\n",
    "                caracteristicas['baños'] = int(text.split()[0])\n",
    "            elif 'coch.' in text:\n",
    "                caracteristicas['cocheras'] = int(text.split()[0])\n",
    "    return caracteristicas"
   ]
  },
  {
   "cell_type": "code",
   "execution_count": 5,
   "metadata": {},
   "outputs": [],
   "source": [
    "def analizar_caracteristicas(caracteristicas_str):\n",
    "    caracteristicas = {}\n",
    "\n",
    "    # Superficie\n",
    "    sup = re.search(r'(\\d+)\\s*m²', caracteristicas_str)\n",
    "    caracteristicas['superficie (m2)'] = int(sup.group(1)) if sup else 0\n",
    "\n",
    "    # Ambientes totales\n",
    "    amb = re.search(r'(\\d+)\\s*amb', caracteristicas_str)\n",
    "    caracteristicas['ambientes totales'] = int(amb.group(1)) if amb else 0\n",
    "\n",
    "    # Dormitorios\n",
    "    dor = re.search(r'(\\d+)\\s*dorm', caracteristicas_str)\n",
    "    caracteristicas['dormitorios'] = int(dor.group(1)) if dor else 0\n",
    "\n",
    "    # Baños\n",
    "    baños = re.search(r'(\\d+)\\s*baño', caracteristicas_str)\n",
    "    caracteristicas['baños'] = int(baños.group(1)) if baños else 0\n",
    "\n",
    "    # Cocheras\n",
    "    coch = re.search(r'(\\d+)\\s*coch', caracteristicas_str)\n",
    "    caracteristicas['cocheras'] = int(coch.group(1)) if coch else 0\n",
    "\n",
    "    return caracteristicas"
   ]
  },
  {
   "cell_type": "code",
   "execution_count": 6,
   "metadata": {},
   "outputs": [
    {
     "data": {
      "text/plain": [
       "{'superficie (m2)': 32,\n",
       " 'ambientes totales': 2,\n",
       " 'dormitorios': 1,\n",
       " 'baños': 1,\n",
       " 'cocheras': 0}"
      ]
     },
     "execution_count": 6,
     "metadata": {},
     "output_type": "execute_result"
    }
   ],
   "source": [
    "analizar_caracteristicas('32 m² tot.2 amb.1 dorm.1 baño')"
   ]
  },
  {
   "cell_type": "code",
   "execution_count": 7,
   "metadata": {
    "id": "5jE3dJs2xz5L"
   },
   "outputs": [],
   "source": [
    "def purgar_barrio(barrio):\n",
    "  barrios_oficiales=['Agronomía','Almagro','Balvanera','Barracas','Belgrano','Boedo','Caballito',\n",
    "                     'Chacarita','Coghlan','Colegiales','Constitución','Congreso','Flores','Floresta','La Boca',\n",
    "                     'La Paternal','Liniers','Mataderos','Monte Castro','Monserrat','Nueva Pompeya',\n",
    "                     'Núñez','Palermo','Parque Avellaneda','Parque Chacabuco','Parque Chas','Parque Patricios',\n",
    "                     'Puerto Madero','Recoleta','Retiro','Saavedra','San Cristóbal','San Nicolás','San Telmo',\n",
    "                     'Vélez Sársfield','Versalles','Villa Crespo','Villa del Parque','Villa Devoto','Villa General Mitre',\n",
    "                     'Villa Lugano','Villa Luro','Villa Ortúzar','Villa Pueyrredón','Villa Real','Villa Riachuelo',\n",
    "                     'Villa Santa Rita','Villa Soldati','Villa Urquiza']\n",
    "  partes = barrio.split(',')\n",
    "  res=partes[0]\n",
    "  for parte in partes:\n",
    "    parte=parte.strip()\n",
    "    if parte in barrios_oficiales:\n",
    "      res = parte\n",
    "      break\n",
    "  return res"
   ]
  },
  {
   "cell_type": "code",
   "execution_count": 105,
   "metadata": {
    "id": "U2T77oXCbQUa"
   },
   "outputs": [],
   "source": [
    "# Lista para almacenar los datos extraídos\n",
    "data = []\n",
    "#df = pd.DataFrame(data)\n",
    "\n",
    "# Función para extraer datos de una página\n",
    "def procesar(posteos):\n",
    "\n",
    "    for posteo in posteos:\n",
    "        # Extraer información de cada posteo\n",
    "        precio_text = posteo.find('div', class_='Price-sc-12dh9kl-3 geYYII').text if posteo.find('div', class_='Price-sc-12dh9kl-3 geYYII') else 'N/A'\n",
    "\n",
    "        # Procesar el precio\n",
    "        precio, moneda = procesar_precio(precio_text)\n",
    "\n",
    "        expensas = posteo.find('div', class_='Expenses-sc-12dh9kl-1 iboaIF').text if posteo.find('div', class_='Expenses-sc-12dh9kl-1 iboaIF') else 'N/A'\n",
    "\n",
    "        #procesar expensas\n",
    "        precio_expensas, moneda_expensas = procesar_precio(expensas)\n",
    "\n",
    "        barrio_crudo = posteo.find('h2', class_='LocationLocation-sc-ge2uzh-2 fziprF').text if posteo.find('h2', class_='LocationLocation-sc-ge2uzh-2 fziprF').text else 'N/A'\n",
    "        #procesar barrios\n",
    "        barrio= purgar_barrio(barrio_crudo)\n",
    "\n",
    "        caracteristicas_crudo = posteo.find('h3', class_='PostingMainFeaturesBlock-sc-1uhtbxc-0 cHDgeO').text if posteo.find('h3', class_='PostingMainFeaturesBlock-sc-1uhtbxc-0 cHDgeO') else 'N/A'\n",
    "        #procesar carateristicas\n",
    "        caracteristicas = analizar_caracteristicas(caracteristicas_crudo)\n",
    "        #buscar si es dueño directo\n",
    "        descripcion = posteo.find('a').text.lower()\n",
    "    \n",
    "        # Verifica si las palabras \"inmobiliaria\" o \"inmobiliario\" o mencion a \"dueño directo\" están en el texto\n",
    "        if descripcion:\n",
    "            \n",
    "            if 'inmobiliaria' or 'inmobiliario' in descripcion:\n",
    "                arrendador = 'Inmobiliaria'\n",
    "            \n",
    "            elif 'dueño directo' or 'dueño-directo' or 'directo' in descripcion:\n",
    "                arrendador = 'Dueño directo'\n",
    "        \n",
    "        else:\n",
    "            arrendedor = 'Indefinido'\n",
    "\n",
    "        # Añadir los datos extraídos a la lista\n",
    "        data.append({\n",
    "            'Precio': precio,\n",
    "            'Moneda': moneda,\n",
    "            'Expensas': precio_expensas,\n",
    "            'Moneda Expensas': moneda_expensas, \n",
    "            'Barrio': barrio,\n",
    "            'Arrendador':arrendador,\n",
    "            'Superficie (m2)': caracteristicas['superficie (m2)'],\n",
    "            'Ambientes': caracteristicas['ambientes totales'],\n",
    "            'Dorm': caracteristicas['dormitorios'],\n",
    "            'Baños': caracteristicas['baños'],\n",
    "            'Cocheras': caracteristicas['cocheras']\n",
    "        })\n",
    "    \n",
    "    print('script competado')\n",
    "    return\n",
    "# Crear un DataFrame con los datos extraídos"
   ]
  },
  {
   "cell_type": "code",
   "execution_count": 96,
   "metadata": {},
   "outputs": [
    {
     "name": "stdout",
     "output_type": "stream",
     "text": [
      "script competado\n"
     ]
    }
   ],
   "source": [
    "procesar(posteos)"
   ]
  },
  {
   "cell_type": "code",
   "execution_count": 97,
   "metadata": {},
   "outputs": [
    {
     "data": {
      "text/plain": [
       "{'Precio': 1000.0,\n",
       " 'Moneda': 'dolares',\n",
       " 'Expensas': 160000.0,\n",
       " 'Moneda Expensas': 'pesos',\n",
       " 'Barrio': 'Belgrano',\n",
       " 'Arrendador': 'Inmobiliaria',\n",
       " 'Superficie (m2)': 95,\n",
       " 'Ambientes': 4,\n",
       " 'Dorm': 3,\n",
       " 'Baños': 2,\n",
       " 'Cocheras': 0}"
      ]
     },
     "execution_count": 97,
     "metadata": {},
     "output_type": "execute_result"
    }
   ],
   "source": [
    "data[0]"
   ]
  },
  {
   "cell_type": "code",
   "execution_count": 22,
   "metadata": {},
   "outputs": [
    {
     "name": "stdout",
     "output_type": "stream",
     "text": [
      "Price: USD 2.200 (2200.0, 'dolares')\n",
      "Expenses: $ 550.000 Expensas (550000.0, 'pesos')\n",
      "Location: Belgrano, Capital Federal Belgrano\n",
      "Main Features: 135 m² tot.3 amb.2 dorm.4 baños\n",
      "{'superficie (m2)': 135, 'ambientes totales': 3, 'dormitorios': 2, 'baños': 4, 'cocheras': 0}\n",
      "<class 'dict'>\n"
     ]
    }
   ],
   "source": [
    "soup = posteos[0]\n",
    "\n",
    "# Extraer información de los divs con las clases especificadas\n",
    "price = soup.find('div', class_='Price-sc-12dh9kl-3 geYYII').text\n",
    "precio = procesar_precio(price)\n",
    "expensas_aux = soup.find('div', class_='Expenses-sc-12dh9kl-1 iboaIF').text\n",
    "expensas = procesar_precio(expensas_aux)\n",
    "location = soup.find('h2', class_='LocationLocation-sc-ge2uzh-2 fziprF').text\n",
    "localidad = purgar_barrio(location)\n",
    "features = soup.find('h3', class_='PostingMainFeaturesBlock-sc-1uhtbxc-0 cHDgeO').text\n",
    "carac = analizar_caracteristicas(features)\n",
    "\n",
    "\n",
    "# Imprimir los valores extraídos\n",
    "print(\"Price:\", price , precio)\n",
    "print(\"Expenses:\",expensas_aux, expensas)\n",
    "print(\"Location:\", location, localidad)\n",
    "print(\"Main Features:\", features)\n",
    "print(carac)\n",
    "print(type(carac))"
   ]
  },
  {
   "cell_type": "code",
   "execution_count": 118,
   "metadata": {},
   "outputs": [],
   "source": [
    "def realizar_scraping(url_base, total_paginas):\n",
    "    for i in range(1, total_paginas + 1):\n",
    "        url = f\"{url_base}-pagina-{i}.html\"\n",
    "        try:\n",
    "            headers = {'User-Agent': 'Mozilla/5.0 (Windows NT 10.0; Win64; x64) AppleWebKit/537.36 (KHTML, like Gecko) Chrome/91.0.4472.124 Safari/537.36'}\n",
    "            response = requests.get(url, headers=headers)\n",
    "            if response.status_code == 200:\n",
    "                 # Crear el objeto BeautifulSoup\n",
    "                soup = BeautifulSoup(response.text, 'html.parser')\n",
    "\n",
    "                # Encontrar todos los divs con la clase \"posting-container\"\n",
    "                posteos = soup.find_all('div', class_='CardContainer-sc-1tt2vbg-5 fvuHxG')\n",
    "                print(f\"Página {i} OK\")\n",
    "                \n",
    "                procesar(posteos)\n",
    "            else:\n",
    "                print(f\"Error en la página {i}: {response.status_code}\")\n",
    "        except requests.exceptions.RequestException as e:\n",
    "            print(f\"Solicitud fallida en la página {i}: {e}\")\n",
    "        \n",
    "        # Tiempo de espera entre solicitudes\n",
    "        time.sleep(3)"
   ]
  },
  {
   "cell_type": "code",
   "execution_count": null,
   "metadata": {},
   "outputs": [],
   "source": [
    "realizar_scraping('link',333)"
   ]
  },
  {
   "cell_type": "code",
   "execution_count": null,
   "metadata": {},
   "outputs": [],
   "source": [
    "#el codifo es ejecutado correctamente por lo que la infomacion queda recopilada en data\n",
    "# a continuacion creo el dataset"
   ]
  },
  {
   "cell_type": "code",
   "execution_count": 120,
   "metadata": {},
   "outputs": [
    {
     "data": {
      "text/plain": [
       "3780"
      ]
     },
     "execution_count": 120,
     "metadata": {},
     "output_type": "execute_result"
    }
   ],
   "source": [
    "len(data)"
   ]
  },
  {
   "cell_type": "code",
   "execution_count": 121,
   "metadata": {},
   "outputs": [],
   "source": [
    "df = pd.DataFrame(data)"
   ]
  },
  {
   "cell_type": "code",
   "execution_count": 122,
   "metadata": {},
   "outputs": [
    {
     "data": {
      "text/html": [
       "<div>\n",
       "<style scoped>\n",
       "    .dataframe tbody tr th:only-of-type {\n",
       "        vertical-align: middle;\n",
       "    }\n",
       "\n",
       "    .dataframe tbody tr th {\n",
       "        vertical-align: top;\n",
       "    }\n",
       "\n",
       "    .dataframe thead th {\n",
       "        text-align: right;\n",
       "    }\n",
       "</style>\n",
       "<table border=\"1\" class=\"dataframe\">\n",
       "  <thead>\n",
       "    <tr style=\"text-align: right;\">\n",
       "      <th></th>\n",
       "      <th>Precio</th>\n",
       "      <th>Moneda</th>\n",
       "      <th>Expensas</th>\n",
       "      <th>Moneda Expensas</th>\n",
       "      <th>Barrio</th>\n",
       "      <th>Arrendador</th>\n",
       "      <th>Superficie (m2)</th>\n",
       "      <th>Ambientes</th>\n",
       "      <th>Dorm</th>\n",
       "      <th>Baños</th>\n",
       "      <th>Cocheras</th>\n",
       "    </tr>\n",
       "  </thead>\n",
       "  <tbody>\n",
       "    <tr>\n",
       "      <th>0</th>\n",
       "      <td>1200.0</td>\n",
       "      <td>dolares</td>\n",
       "      <td>NaN</td>\n",
       "      <td>None</td>\n",
       "      <td>Recoleta</td>\n",
       "      <td>Inmobiliaria</td>\n",
       "      <td>125</td>\n",
       "      <td>4</td>\n",
       "      <td>3</td>\n",
       "      <td>3</td>\n",
       "      <td>0</td>\n",
       "    </tr>\n",
       "    <tr>\n",
       "      <th>1</th>\n",
       "      <td>900.0</td>\n",
       "      <td>dolares</td>\n",
       "      <td>137000.0</td>\n",
       "      <td>pesos</td>\n",
       "      <td>Palermo</td>\n",
       "      <td>Inmobiliaria</td>\n",
       "      <td>42</td>\n",
       "      <td>2</td>\n",
       "      <td>1</td>\n",
       "      <td>1</td>\n",
       "      <td>1</td>\n",
       "    </tr>\n",
       "    <tr>\n",
       "      <th>2</th>\n",
       "      <td>1000.0</td>\n",
       "      <td>dolares</td>\n",
       "      <td>NaN</td>\n",
       "      <td>None</td>\n",
       "      <td>Palermo</td>\n",
       "      <td>Inmobiliaria</td>\n",
       "      <td>81</td>\n",
       "      <td>3</td>\n",
       "      <td>2</td>\n",
       "      <td>1</td>\n",
       "      <td>0</td>\n",
       "    </tr>\n",
       "    <tr>\n",
       "      <th>3</th>\n",
       "      <td>2500.0</td>\n",
       "      <td>dolares</td>\n",
       "      <td>NaN</td>\n",
       "      <td>None</td>\n",
       "      <td>Palermo</td>\n",
       "      <td>Inmobiliaria</td>\n",
       "      <td>81</td>\n",
       "      <td>3</td>\n",
       "      <td>2</td>\n",
       "      <td>2</td>\n",
       "      <td>1</td>\n",
       "    </tr>\n",
       "    <tr>\n",
       "      <th>4</th>\n",
       "      <td>350.0</td>\n",
       "      <td>dolares</td>\n",
       "      <td>216000.0</td>\n",
       "      <td>pesos</td>\n",
       "      <td>Palermo</td>\n",
       "      <td>Inmobiliaria</td>\n",
       "      <td>33</td>\n",
       "      <td>1</td>\n",
       "      <td>1</td>\n",
       "      <td>1</td>\n",
       "      <td>0</td>\n",
       "    </tr>\n",
       "    <tr>\n",
       "      <th>...</th>\n",
       "      <td>...</td>\n",
       "      <td>...</td>\n",
       "      <td>...</td>\n",
       "      <td>...</td>\n",
       "      <td>...</td>\n",
       "      <td>...</td>\n",
       "      <td>...</td>\n",
       "      <td>...</td>\n",
       "      <td>...</td>\n",
       "      <td>...</td>\n",
       "      <td>...</td>\n",
       "    </tr>\n",
       "    <tr>\n",
       "      <th>3775</th>\n",
       "      <td>450000.0</td>\n",
       "      <td>pesos</td>\n",
       "      <td>105000.0</td>\n",
       "      <td>pesos</td>\n",
       "      <td>Almagro</td>\n",
       "      <td>Inmobiliaria</td>\n",
       "      <td>53</td>\n",
       "      <td>3</td>\n",
       "      <td>2</td>\n",
       "      <td>1</td>\n",
       "      <td>0</td>\n",
       "    </tr>\n",
       "    <tr>\n",
       "      <th>3776</th>\n",
       "      <td>500000.0</td>\n",
       "      <td>pesos</td>\n",
       "      <td>55000.0</td>\n",
       "      <td>pesos</td>\n",
       "      <td>Flores</td>\n",
       "      <td>Inmobiliaria</td>\n",
       "      <td>118</td>\n",
       "      <td>2</td>\n",
       "      <td>1</td>\n",
       "      <td>1</td>\n",
       "      <td>0</td>\n",
       "    </tr>\n",
       "    <tr>\n",
       "      <th>3777</th>\n",
       "      <td>550.0</td>\n",
       "      <td>dolares</td>\n",
       "      <td>180000.0</td>\n",
       "      <td>pesos</td>\n",
       "      <td>Recoleta</td>\n",
       "      <td>Inmobiliaria</td>\n",
       "      <td>42</td>\n",
       "      <td>1</td>\n",
       "      <td>0</td>\n",
       "      <td>1</td>\n",
       "      <td>0</td>\n",
       "    </tr>\n",
       "    <tr>\n",
       "      <th>3778</th>\n",
       "      <td>600.0</td>\n",
       "      <td>dolares</td>\n",
       "      <td>280000.0</td>\n",
       "      <td>pesos</td>\n",
       "      <td>Belgrano</td>\n",
       "      <td>Inmobiliaria</td>\n",
       "      <td>55</td>\n",
       "      <td>2</td>\n",
       "      <td>1</td>\n",
       "      <td>1</td>\n",
       "      <td>0</td>\n",
       "    </tr>\n",
       "    <tr>\n",
       "      <th>3779</th>\n",
       "      <td>500000.0</td>\n",
       "      <td>pesos</td>\n",
       "      <td>100000.0</td>\n",
       "      <td>pesos</td>\n",
       "      <td>Retiro</td>\n",
       "      <td>Inmobiliaria</td>\n",
       "      <td>55</td>\n",
       "      <td>2</td>\n",
       "      <td>1</td>\n",
       "      <td>1</td>\n",
       "      <td>0</td>\n",
       "    </tr>\n",
       "  </tbody>\n",
       "</table>\n",
       "<p>3780 rows × 11 columns</p>\n",
       "</div>"
      ],
      "text/plain": [
       "        Precio   Moneda  Expensas Moneda Expensas    Barrio    Arrendador  \\\n",
       "0       1200.0  dolares       NaN            None  Recoleta  Inmobiliaria   \n",
       "1        900.0  dolares  137000.0           pesos   Palermo  Inmobiliaria   \n",
       "2       1000.0  dolares       NaN            None   Palermo  Inmobiliaria   \n",
       "3       2500.0  dolares       NaN            None   Palermo  Inmobiliaria   \n",
       "4        350.0  dolares  216000.0           pesos   Palermo  Inmobiliaria   \n",
       "...        ...      ...       ...             ...       ...           ...   \n",
       "3775  450000.0    pesos  105000.0           pesos   Almagro  Inmobiliaria   \n",
       "3776  500000.0    pesos   55000.0           pesos    Flores  Inmobiliaria   \n",
       "3777     550.0  dolares  180000.0           pesos  Recoleta  Inmobiliaria   \n",
       "3778     600.0  dolares  280000.0           pesos  Belgrano  Inmobiliaria   \n",
       "3779  500000.0    pesos  100000.0           pesos    Retiro  Inmobiliaria   \n",
       "\n",
       "      Superficie (m2)  Ambientes  Dorm  Baños  Cocheras  \n",
       "0                 125          4     3      3         0  \n",
       "1                  42          2     1      1         1  \n",
       "2                  81          3     2      1         0  \n",
       "3                  81          3     2      2         1  \n",
       "4                  33          1     1      1         0  \n",
       "...               ...        ...   ...    ...       ...  \n",
       "3775               53          3     2      1         0  \n",
       "3776              118          2     1      1         0  \n",
       "3777               42          1     0      1         0  \n",
       "3778               55          2     1      1         0  \n",
       "3779               55          2     1      1         0  \n",
       "\n",
       "[3780 rows x 11 columns]"
      ]
     },
     "execution_count": 122,
     "metadata": {},
     "output_type": "execute_result"
    }
   ],
   "source": [
    "df"
   ]
  },
  {
   "cell_type": "code",
   "execution_count": 134,
   "metadata": {},
   "outputs": [],
   "source": [
    "df.to_csv('alquileresDB.csv', index = False)\n",
    "df.to_excel('alquileresDB.xlsx', index = False)\n",
    "df.to_json('alquileresDB.json')"
   ]
  },
  {
   "cell_type": "code",
   "execution_count": null,
   "metadata": {},
   "outputs": [],
   "source": []
  }
 ],
 "metadata": {
  "colab": {
   "provenance": []
  },
  "kernelspec": {
   "display_name": "Python 3 (ipykernel)",
   "language": "python",
   "name": "python3"
  },
  "language_info": {
   "codemirror_mode": {
    "name": "ipython",
    "version": 3
   },
   "file_extension": ".py",
   "mimetype": "text/x-python",
   "name": "python",
   "nbconvert_exporter": "python",
   "pygments_lexer": "ipython3",
   "version": "3.11.3"
  }
 },
 "nbformat": 4,
 "nbformat_minor": 4
}
